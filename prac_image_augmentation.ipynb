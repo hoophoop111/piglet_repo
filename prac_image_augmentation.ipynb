{
 "cells": [
  {
   "cell_type": "code",
   "execution_count": 1,
   "metadata": {},
   "outputs": [],
   "source": [
    "import numpy as np\n",
    "import matplotlib.pyplot as plt\n",
    "import cv2\n",
    "import glob"
   ]
  },
  {
   "cell_type": "code",
   "execution_count": 2,
   "metadata": {},
   "outputs": [],
   "source": [
    "# img_name = []\n",
    "# for i in range(90, 130, 10):\n",
    "# #     img_name = glob.glob('./sample_image/pracimg_name/resize/'+str(i)+'/*.png')\n",
    "#     img_name.append(glob.glob('./sample_image/pracimages/org2/'+str(i)+'/*.png'))"
   ]
  },
  {
   "cell_type": "code",
   "execution_count": 12,
   "metadata": {},
   "outputs": [],
   "source": [
    "# images = glob.glob('./sample_image/pracimages/org2/*.png')\n",
    "# images = glob.glob('./marker_image/chessboard_resize/*.jpg')"
   ]
  },
  {
   "cell_type": "code",
   "execution_count": 13,
   "metadata": {
    "collapsed": true
   },
   "outputs": [
    {
     "data": {
      "text/plain": [
       "[['./sample_image/pracimages/org2/90/25_90.png',\n",
       "  './sample_image/pracimages/org2/90/27_90.png',\n",
       "  './sample_image/pracimages/org2/90/23_90.png',\n",
       "  './sample_image/pracimages/org2/90/28_90.png',\n",
       "  './sample_image/pracimages/org2/90/24_90.png',\n",
       "  './sample_image/pracimages/org2/90/26_90.png',\n",
       "  './sample_image/pracimages/org2/90/22_90.png'],\n",
       " ['./sample_image/pracimages/org2/100/11_100.png',\n",
       "  './sample_image/pracimages/org2/100/10_100.png',\n",
       "  './sample_image/pracimages/org2/100/12_100.png',\n",
       "  './sample_image/pracimages/org2/100/8_100.png',\n",
       "  './sample_image/pracimages/org2/100/9_100.png',\n",
       "  './sample_image/pracimages/org2/100/13_100.png'],\n",
       " ['./sample_image/pracimages/org2/110/19_110.png',\n",
       "  './sample_image/pracimages/org2/110/18_110.png',\n",
       "  './sample_image/pracimages/org2/110/17_110.png',\n",
       "  './sample_image/pracimages/org2/110/21_110.png',\n",
       "  './sample_image/pracimages/org2/110/20_110.png',\n",
       "  './sample_image/pracimages/org2/110/16_110.png',\n",
       "  './sample_image/pracimages/org2/110/14_110.png',\n",
       "  './sample_image/pracimages/org2/110/15_110.png'],\n",
       " ['./sample_image/pracimages/org2/120/6_120.png',\n",
       "  './sample_image/pracimages/org2/120/7_120.png',\n",
       "  './sample_image/pracimages/org2/120/5_120.png',\n",
       "  './sample_image/pracimages/org2/120/4_120.png',\n",
       "  './sample_image/pracimages/org2/120/1_120.png',\n",
       "  './sample_image/pracimages/org2/120/2_120.png',\n",
       "  './sample_image/pracimages/org2/120/3_120.png']]"
      ]
     },
     "execution_count": 13,
     "metadata": {},
     "output_type": "execute_result"
    }
   ],
   "source": [
    "# img_name"
   ]
  },
  {
   "cell_type": "code",
   "execution_count": 44,
   "metadata": {},
   "outputs": [],
   "source": [
    "# img = cv2.imread(images[0])\n",
    "# print(img.shape)\n",
    "# img = cv2.resize(img, (int(img.shape[1]*0.99), int(img.shape[0]*0.99)), interpolation = cv2.INTER_CUBIC)\n",
    "# print(img.shape)\n",
    "# img = cv2.resize(img, (int(img.shape[1]*0.99), int(img.shape[0]*0.99)), interpolation = cv2.INTER_CUBIC)\n",
    "# print(img.shape)\n",
    "# cv2.imwrite('./sample_image/pracimages/resize'+str(1)+'.png',img)"
   ]
  },
  {
   "cell_type": "code",
   "execution_count": 2,
   "metadata": {},
   "outputs": [],
   "source": [
    "pnum = 1\n",
    "for i in range(90, 130, 10):\n",
    "    images = glob.glob('./sample_image/pracimages/org2/'+str(i)+'/*.png')\n",
    "    for img in images:\n",
    "        img = cv2.imread(img)\n",
    "#         img = cv2.cvtColor(img, cv2.COLOR_BGR2GRAY)\n",
    "        inum = 1\n",
    "        for j in range(1, 21):\n",
    "            img = cv2.resize(img,(int(img.shape[1]*0.995), int(img.shape[0]*0.995)), interpolation = cv2.INTER_CUBIC)\n",
    "        \n",
    "            if j<10:\n",
    "                w = np.random.randint(i*100+499, i*100+999)\n",
    "            else:\n",
    "                w = np.random.randint(i*100, i*100+499)\n",
    "\n",
    "            if i < 100:\n",
    "                w = '0' + str(w)\n",
    "            else:\n",
    "                w = str(w) \n",
    "                \n",
    "            if pnum < 10:\n",
    "                pid = '0' + str(pnum)\n",
    "            else:\n",
    "                pid = str(pnum)\n",
    "                \n",
    "            if j < 10:\n",
    "                img_num = '0' + str(inum)\n",
    "            else:\n",
    "                img_num = str(inum)\n",
    "\n",
    "            cv2.imwrite('./sample_image/pracimages/resize4/'+ str(i) +'/p'+ pid +'img'+ img_num +'_'+ w +'.png',img)\n",
    "            inum += 1\n",
    "        pnum += 1\n",
    "            "
   ]
  },
  {
   "cell_type": "code",
   "execution_count": null,
   "metadata": {},
   "outputs": [],
   "source": []
  },
  {
   "cell_type": "code",
   "execution_count": null,
   "metadata": {},
   "outputs": [],
   "source": []
  },
  {
   "cell_type": "code",
   "execution_count": null,
   "metadata": {},
   "outputs": [],
   "source": []
  },
  {
   "cell_type": "code",
   "execution_count": 16,
   "metadata": {},
   "outputs": [],
   "source": [
    "# i=1\n",
    "# group = 120\n",
    "\n",
    "# for img in images:\n",
    "#     img = cv2.imread(img)\n",
    "#     img = cv2.cvtColor(img, cv2.COLOR_BGR2GRAY)\n",
    "\n",
    "#     for j in range(1, 21):\n",
    "#         img = cv2.resize(img, (int(img.shape[1]*0.995), int(img.shape[0]*0.995)), interpolation = cv2.INTER_CUBIC)\n",
    "#         if j < 10:\n",
    "#             w = np.random.randint(group*100+199, group*100+499)\n",
    "#         elif j >= 10:\n",
    "#             w = np.random.randint(group*100, group*100+199)\n",
    "            \n",
    "        \n",
    "#         if i < 10:\n",
    "#             pid = '0' + str(i)\n",
    "#         else:\n",
    "#             pid = str(i)\n",
    "#         if j < 10:\n",
    "#             inum = '0' + str(j)\n",
    "#         else:\n",
    "#             inum = str(j)\n",
    "#         if group < 100:\n",
    "#             w = '0' + str(w)\n",
    "#         else:\n",
    "#             w = str(w)\n",
    "#         cv2.imwrite('./sample_image/pracimages/resize/'+ str(group) +'/p'+ pid +'img'+ inum +'_'+ w +'.png',img)\n",
    "            \n",
    "\n",
    "#         if j %2 ==0:\n",
    "#             group -= 10\n",
    "#         if j == 20:\n",
    "#             group = 120\n",
    "            \n",
    "#     ls_i = 0        \n",
    "#     i += 1\n",
    "    "
   ]
  },
  {
   "cell_type": "code",
   "execution_count": 10,
   "metadata": {},
   "outputs": [],
   "source": [
    "# id+str(i)+str(j)+_+ls"
   ]
  },
  {
   "cell_type": "code",
   "execution_count": null,
   "metadata": {},
   "outputs": [],
   "source": []
  }
 ],
 "metadata": {
  "kernelspec": {
   "display_name": "Python 3",
   "language": "python",
   "name": "python3"
  },
  "language_info": {
   "codemirror_mode": {
    "name": "ipython",
    "version": 3
   },
   "file_extension": ".py",
   "mimetype": "text/x-python",
   "name": "python",
   "nbconvert_exporter": "python",
   "pygments_lexer": "ipython3",
   "version": "3.6.4"
  }
 },
 "nbformat": 4,
 "nbformat_minor": 2
}
