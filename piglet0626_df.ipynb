{
 "cells": [
  {
   "cell_type": "code",
   "execution_count": 1,
   "metadata": {
    "ExecuteTime": {
     "end_time": "2018-07-12T05:26:16.160898Z",
     "start_time": "2018-07-12T05:26:15.864492Z"
    }
   },
   "outputs": [],
   "source": [
    "import numpy as np\n",
    "import pandas as pd\n",
    "import matplotlib.pyplot as plt\n",
    "import cv2\n",
    "import glob\n",
    "import pickle\n",
    "\n",
    "from IPython.display import display \n",
    "pd.options.display.max_columns = None\n",
    "pd.options.display.max_rows = None"
   ]
  },
  {
   "cell_type": "code",
   "execution_count": 2,
   "metadata": {
    "ExecuteTime": {
     "end_time": "2018-07-12T05:26:16.243118Z",
     "start_time": "2018-07-12T05:26:16.234580Z"
    }
   },
   "outputs": [],
   "source": [
    "img_name = []\n",
    "for i in range(90, 130, 10):\n",
    "#     img_name = glob.glob('../sample_image/pracimg_name/resize/'+str(i)+'/*.png')\n",
    "    tmp = glob.glob('../sample_image/pracimages/resize4/'+str(i)+'/*.png')\n",
    "    img_name.append(tmp)"
   ]
  },
  {
   "cell_type": "code",
   "execution_count": 3,
   "metadata": {
    "ExecuteTime": {
     "end_time": "2018-07-12T05:26:17.185751Z",
     "start_time": "2018-07-12T05:26:17.182678Z"
    }
   },
   "outputs": [],
   "source": [
    "img_name = img_name[0] + img_name[1] + img_name[2] + img_name[3]"
   ]
  },
  {
   "cell_type": "code",
   "execution_count": 4,
   "metadata": {
    "ExecuteTime": {
     "end_time": "2018-07-12T05:26:20.080032Z",
     "start_time": "2018-07-12T05:26:17.624144Z"
    }
   },
   "outputs": [],
   "source": [
    "pid = []\n",
    "weight = []\n",
    "images = []\n",
    "for i, img in zip(range(len(img_name)), img_name):\n",
    "    if img_name[i][37] == '/':\n",
    "        pid.append(img_name[i][38:46])\n",
    "        weight.append(img_name[i][47:52])\n",
    "    else:\n",
    "        pid.append(img_name[i][39:47])\n",
    "        weight.append(img_name[i][48:53])\n",
    "    \n",
    "#     img = cv2.imread(img)\n",
    "    img = cv2.imread(img)\n",
    "    img = img[50:250, 0:500]\n",
    "    images.append(img)\n",
    "    \n",
    "weight = np.array(weight).astype(int)\n",
    "weight = weight/100"
   ]
  },
  {
   "cell_type": "code",
   "execution_count": 5,
   "metadata": {
    "ExecuteTime": {
     "end_time": "2018-07-12T05:26:27.415814Z",
     "start_time": "2018-07-12T05:26:20.661899Z"
    },
    "scrolled": true
   },
   "outputs": [
    {
     "data": {
      "text/html": [
       "<div>\n",
       "<style scoped>\n",
       "    .dataframe tbody tr th:only-of-type {\n",
       "        vertical-align: middle;\n",
       "    }\n",
       "\n",
       "    .dataframe tbody tr th {\n",
       "        vertical-align: top;\n",
       "    }\n",
       "\n",
       "    .dataframe thead th {\n",
       "        text-align: right;\n",
       "    }\n",
       "</style>\n",
       "<table border=\"1\" class=\"dataframe\">\n",
       "  <thead>\n",
       "    <tr style=\"text-align: right;\">\n",
       "      <th></th>\n",
       "      <th>images</th>\n",
       "      <th>pid</th>\n",
       "      <th>weight</th>\n",
       "    </tr>\n",
       "  </thead>\n",
       "  <tbody>\n",
       "    <tr>\n",
       "      <th>555</th>\n",
       "      <td>[[[81, 91, 90], [81, 91, 90], [81, 91, 90], [8...</td>\n",
       "      <td>p28img16</td>\n",
       "      <td>121.22</td>\n",
       "    </tr>\n",
       "    <tr>\n",
       "      <th>556</th>\n",
       "      <td>[[[81, 91, 90], [81, 91, 90], [81, 91, 90], [8...</td>\n",
       "      <td>p28img17</td>\n",
       "      <td>124.70</td>\n",
       "    </tr>\n",
       "    <tr>\n",
       "      <th>557</th>\n",
       "      <td>[[[81, 91, 90], [81, 91, 90], [81, 91, 90], [8...</td>\n",
       "      <td>p28img18</td>\n",
       "      <td>120.82</td>\n",
       "    </tr>\n",
       "    <tr>\n",
       "      <th>558</th>\n",
       "      <td>[[[81, 91, 90], [81, 91, 90], [81, 91, 90], [8...</td>\n",
       "      <td>p28img19</td>\n",
       "      <td>121.72</td>\n",
       "    </tr>\n",
       "    <tr>\n",
       "      <th>559</th>\n",
       "      <td>[[[81, 91, 90], [81, 91, 90], [81, 91, 90], [8...</td>\n",
       "      <td>p28img20</td>\n",
       "      <td>124.12</td>\n",
       "    </tr>\n",
       "  </tbody>\n",
       "</table>\n",
       "</div>"
      ],
      "text/plain": [
       "                                                images       pid  weight\n",
       "555  [[[81, 91, 90], [81, 91, 90], [81, 91, 90], [8...  p28img16  121.22\n",
       "556  [[[81, 91, 90], [81, 91, 90], [81, 91, 90], [8...  p28img17  124.70\n",
       "557  [[[81, 91, 90], [81, 91, 90], [81, 91, 90], [8...  p28img18  120.82\n",
       "558  [[[81, 91, 90], [81, 91, 90], [81, 91, 90], [8...  p28img19  121.72\n",
       "559  [[[81, 91, 90], [81, 91, 90], [81, 91, 90], [8...  p28img20  124.12"
      ]
     },
     "execution_count": 5,
     "metadata": {},
     "output_type": "execute_result"
    }
   ],
   "source": [
    "df = pd.DataFrame(data={'pid': pid, 'weight': weight, 'images':images})\n",
    "df.sort_values('pid', inplace=True)\n",
    "df.reset_index(inplace=True, drop=True)\n",
    "df.tail()"
   ]
  },
  {
   "cell_type": "code",
   "execution_count": 6,
   "metadata": {
    "ExecuteTime": {
     "end_time": "2018-07-12T05:27:32.452707Z",
     "start_time": "2018-07-12T05:27:32.449776Z"
    }
   },
   "outputs": [],
   "source": [
    "del pid, weight, img, images"
   ]
  },
  {
   "cell_type": "code",
   "execution_count": 7,
   "metadata": {
    "ExecuteTime": {
     "end_time": "2018-07-12T05:27:56.501204Z",
     "start_time": "2018-07-12T05:27:49.971928Z"
    }
   },
   "outputs": [
    {
     "data": {
      "text/html": [
       "<div>\n",
       "<style scoped>\n",
       "    .dataframe tbody tr th:only-of-type {\n",
       "        vertical-align: middle;\n",
       "    }\n",
       "\n",
       "    .dataframe tbody tr th {\n",
       "        vertical-align: top;\n",
       "    }\n",
       "\n",
       "    .dataframe thead th {\n",
       "        text-align: right;\n",
       "    }\n",
       "</style>\n",
       "<table border=\"1\" class=\"dataframe\">\n",
       "  <thead>\n",
       "    <tr style=\"text-align: right;\">\n",
       "      <th></th>\n",
       "      <th>images</th>\n",
       "      <th>pid</th>\n",
       "      <th>weight</th>\n",
       "    </tr>\n",
       "  </thead>\n",
       "  <tbody>\n",
       "    <tr>\n",
       "      <th>555</th>\n",
       "      <td>[[[81, 91, 90], [81, 91, 90], [81, 91, 90], [8...</td>\n",
       "      <td>p28img16</td>\n",
       "      <td>121.22</td>\n",
       "    </tr>\n",
       "    <tr>\n",
       "      <th>556</th>\n",
       "      <td>[[[81, 91, 90], [81, 91, 90], [81, 91, 90], [8...</td>\n",
       "      <td>p28img17</td>\n",
       "      <td>124.70</td>\n",
       "    </tr>\n",
       "    <tr>\n",
       "      <th>557</th>\n",
       "      <td>[[[81, 91, 90], [81, 91, 90], [81, 91, 90], [8...</td>\n",
       "      <td>p28img18</td>\n",
       "      <td>120.82</td>\n",
       "    </tr>\n",
       "    <tr>\n",
       "      <th>558</th>\n",
       "      <td>[[[81, 91, 90], [81, 91, 90], [81, 91, 90], [8...</td>\n",
       "      <td>p28img19</td>\n",
       "      <td>121.72</td>\n",
       "    </tr>\n",
       "    <tr>\n",
       "      <th>559</th>\n",
       "      <td>[[[81, 91, 90], [81, 91, 90], [81, 91, 90], [8...</td>\n",
       "      <td>p28img20</td>\n",
       "      <td>124.12</td>\n",
       "    </tr>\n",
       "  </tbody>\n",
       "</table>\n",
       "</div>"
      ],
      "text/plain": [
       "                                                images       pid  weight\n",
       "555  [[[81, 91, 90], [81, 91, 90], [81, 91, 90], [8...  p28img16  121.22\n",
       "556  [[[81, 91, 90], [81, 91, 90], [81, 91, 90], [8...  p28img17  124.70\n",
       "557  [[[81, 91, 90], [81, 91, 90], [81, 91, 90], [8...  p28img18  120.82\n",
       "558  [[[81, 91, 90], [81, 91, 90], [81, 91, 90], [8...  p28img19  121.72\n",
       "559  [[[81, 91, 90], [81, 91, 90], [81, 91, 90], [8...  p28img20  124.12"
      ]
     },
     "execution_count": 7,
     "metadata": {},
     "output_type": "execute_result"
    }
   ],
   "source": [
    "df.tail()"
   ]
  },
  {
   "cell_type": "code",
   "execution_count": null,
   "metadata": {
    "ExecuteTime": {
     "end_time": "2018-07-12T05:27:45.956619Z",
     "start_time": "2018-07-12T05:27:32.749Z"
    }
   },
   "outputs": [],
   "source": [
    "for i in range(len(df.images)):\n",
    "    plt.imshow(df.images[i], interpolation='bicubic')\n",
    "    plt.xlabel(df.pid[i]+ '*' +str(df.weight[i]))\n",
    "    plt.show()\n",
    "    break"
   ]
  },
  {
   "cell_type": "code",
   "execution_count": null,
   "metadata": {
    "ExecuteTime": {
     "end_time": "2018-07-12T05:27:45.958380Z",
     "start_time": "2018-07-12T05:27:42.593Z"
    }
   },
   "outputs": [],
   "source": [
    "df.images.tail()"
   ]
  },
  {
   "cell_type": "code",
   "execution_count": 8,
   "metadata": {},
   "outputs": [
    {
     "data": {
      "text/plain": [
       "560"
      ]
     },
     "execution_count": 8,
     "metadata": {},
     "output_type": "execute_result"
    }
   ],
   "source": [
    "len(df)"
   ]
  },
  {
   "cell_type": "code",
   "execution_count": null,
   "metadata": {},
   "outputs": [],
   "source": []
  },
  {
   "cell_type": "code",
   "execution_count": null,
   "metadata": {},
   "outputs": [],
   "source": []
  },
  {
   "cell_type": "code",
   "execution_count": null,
   "metadata": {},
   "outputs": [],
   "source": []
  },
  {
   "cell_type": "code",
   "execution_count": null,
   "metadata": {},
   "outputs": [],
   "source": []
  },
  {
   "cell_type": "code",
   "execution_count": null,
   "metadata": {},
   "outputs": [],
   "source": []
  },
  {
   "cell_type": "code",
   "execution_count": null,
   "metadata": {},
   "outputs": [],
   "source": []
  },
  {
   "cell_type": "code",
   "execution_count": null,
   "metadata": {},
   "outputs": [],
   "source": []
  },
  {
   "cell_type": "code",
   "execution_count": null,
   "metadata": {},
   "outputs": [],
   "source": []
  },
  {
   "cell_type": "code",
   "execution_count": null,
   "metadata": {},
   "outputs": [],
   "source": []
  },
  {
   "cell_type": "code",
   "execution_count": null,
   "metadata": {},
   "outputs": [],
   "source": []
  },
  {
   "cell_type": "code",
   "execution_count": null,
   "metadata": {},
   "outputs": [],
   "source": []
  },
  {
   "cell_type": "code",
   "execution_count": null,
   "metadata": {},
   "outputs": [],
   "source": []
  },
  {
   "cell_type": "code",
   "execution_count": null,
   "metadata": {},
   "outputs": [],
   "source": []
  }
 ],
 "metadata": {
  "kernelspec": {
   "display_name": "Python 3",
   "language": "python",
   "name": "python3"
  },
  "language_info": {
   "codemirror_mode": {
    "name": "ipython",
    "version": 3
   },
   "file_extension": ".py",
   "mimetype": "text/x-python",
   "name": "python",
   "nbconvert_exporter": "python",
   "pygments_lexer": "ipython3",
   "version": "3.6.4"
  },
  "toc": {
   "base_numbering": 1,
   "nav_menu": {},
   "number_sections": true,
   "sideBar": true,
   "skip_h1_title": false,
   "title_cell": "Table of Contents",
   "title_sidebar": "Contents",
   "toc_cell": false,
   "toc_position": {},
   "toc_section_display": true,
   "toc_window_display": false
  },
  "varInspector": {
   "cols": {
    "lenName": 16,
    "lenType": 16,
    "lenVar": 40
   },
   "kernels_config": {
    "python": {
     "delete_cmd_postfix": "",
     "delete_cmd_prefix": "del ",
     "library": "var_list.py",
     "varRefreshCmd": "print(var_dic_list())"
    },
    "r": {
     "delete_cmd_postfix": ") ",
     "delete_cmd_prefix": "rm(",
     "library": "var_list.r",
     "varRefreshCmd": "cat(var_dic_list()) "
    }
   },
   "types_to_exclude": [
    "module",
    "function",
    "builtin_function_or_method",
    "instance",
    "_Feature"
   ],
   "window_display": false
  }
 },
 "nbformat": 4,
 "nbformat_minor": 2
}
